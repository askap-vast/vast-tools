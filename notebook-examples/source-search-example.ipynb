{
 "cells": [
  {
   "cell_type": "markdown",
   "metadata": {},
   "source": [
    "## Finding sources in the VAST Pilot Survey\n",
    "\n",
    "This notebook gives an example of how to use vast-tools in a notebook environment to perform a search of known sources or coordinates.\n",
    "\n",
    "Below are the imports required for this example. The main import required from vast-tools is the Query object, with which queries can be initialised and run. Astropy objects are also imported as they are required as input to the query.\n",
    "\n",
    "**Note** for large queries it is recommened to use the script version of `find_sources.py` included with vast-tools."
   ]
  },
  {
   "cell_type": "code",
   "execution_count": 1,
   "metadata": {
    "execution": {
     "iopub.execute_input": "2020-08-05T09:49:47.227072Z",
     "iopub.status.busy": "2020-08-05T09:49:47.226858Z",
     "iopub.status.idle": "2020-08-05T09:49:49.204905Z",
     "shell.execute_reply": "2020-08-05T09:49:49.204170Z",
     "shell.execute_reply.started": "2020-08-05T09:49:47.227051Z"
    }
   },
   "outputs": [],
   "source": [
    "from vasttools.query import Query\n",
    "from astropy.coordinates import SkyCoord, Angle\n",
    "import astropy.units as u\n",
    "import matplotlib.pyplot as plt"
   ]
  },
  {
   "cell_type": "markdown",
   "metadata": {},
   "source": [
    "In this example we will search for three sources of interest:\n",
    "\n",
    "* 1AXG J134412+0016\n",
    "* SN 2012dy\n",
    "* PSR J2129-0429\n",
    "\n",
    "If you don't enter any coordiantes then SIMBAD will be queried to find a match to the name entered. You cannot mix the SIMBAD search with coordinates - i.e. if you supply coordinates to search to need to supply the correct number of names.\n",
    "\n",
    "The first steps is to set up our source names and then initialise the query. The input settings are similar to the `find_sources.py`."
   ]
  },
  {
   "cell_type": "code",
   "execution_count": 2,
   "metadata": {
    "execution": {
     "iopub.execute_input": "2020-08-05T09:49:49.206110Z",
     "iopub.status.busy": "2020-08-05T09:49:49.205958Z",
     "iopub.status.idle": "2020-08-05T09:49:49.699984Z",
     "shell.execute_reply": "2020-08-05T09:49:49.699493Z",
     "shell.execute_reply.started": "2020-08-05T09:49:49.206092Z"
    }
   },
   "outputs": [],
   "source": [
    "source_names = [\"1AXG J134412+0016\", \"SN 2012dy\", \"PSR J2129-0429\"]\n",
    "\n",
    "example_query = Query(\n",
    "    source_names=source_names,\n",
    "    matches_only=True, \n",
    "    epochs=\"all-vast\", \n",
    "    crossmatch_radius=10., \n",
    "    output_dir='source-search-example-output', \n",
    "    base_folder='/import/ada1/askap/PILOT/release'\n",
    ")"
   ]
  },
  {
   "cell_type": "markdown",
   "metadata": {},
   "source": [
    "To check what will be searched you can look at the `query_df` attribute. Below we can see the sources we have set up to search.\n",
    "\n",
    "Note that `1AXG J134412+0016` has been changed to `2SLAQ J134414.15+001642.2` as this is the identifier returned by SIMBAD."
   ]
  },
  {
   "cell_type": "code",
   "execution_count": 3,
   "metadata": {
    "execution": {
     "iopub.execute_input": "2020-08-05T09:49:49.701196Z",
     "iopub.status.busy": "2020-08-05T09:49:49.701041Z",
     "iopub.status.idle": "2020-08-05T09:49:49.714061Z",
     "shell.execute_reply": "2020-08-05T09:49:49.713672Z",
     "shell.execute_reply.started": "2020-08-05T09:49:49.701177Z"
    }
   },
   "outputs": [
    {
     "data": {
      "text/html": [
       "<div>\n",
       "<style scoped>\n",
       "    .dataframe tbody tr th:only-of-type {\n",
       "        vertical-align: middle;\n",
       "    }\n",
       "\n",
       "    .dataframe tbody tr th {\n",
       "        vertical-align: top;\n",
       "    }\n",
       "\n",
       "    .dataframe thead th {\n",
       "        text-align: right;\n",
       "    }\n",
       "</style>\n",
       "<table border=\"1\" class=\"dataframe\">\n",
       "  <thead>\n",
       "    <tr style=\"text-align: right;\">\n",
       "      <th></th>\n",
       "      <th>name</th>\n",
       "      <th>ra</th>\n",
       "      <th>dec</th>\n",
       "      <th>skycoord</th>\n",
       "      <th>stokes</th>\n",
       "    </tr>\n",
       "  </thead>\n",
       "  <tbody>\n",
       "    <tr>\n",
       "      <th>0</th>\n",
       "      <td>2SLAQ J134414.15+001642.2</td>\n",
       "      <td>206.058966</td>\n",
       "      <td>0.278384</td>\n",
       "      <td>&lt;SkyCoord (ICRS): (ra, dec) in deg\\n    (206.0...</td>\n",
       "      <td>I</td>\n",
       "    </tr>\n",
       "    <tr>\n",
       "      <th>1</th>\n",
       "      <td>SN 2012dy</td>\n",
       "      <td>319.711250</td>\n",
       "      <td>-57.645140</td>\n",
       "      <td>&lt;SkyCoord (ICRS): (ra, dec) in deg\\n    (319.7...</td>\n",
       "      <td>I</td>\n",
       "    </tr>\n",
       "    <tr>\n",
       "      <th>2</th>\n",
       "      <td>PSR J2129-04</td>\n",
       "      <td>322.438710</td>\n",
       "      <td>-4.486640</td>\n",
       "      <td>&lt;SkyCoord (ICRS): (ra, dec) in deg\\n    (322.4...</td>\n",
       "      <td>I</td>\n",
       "    </tr>\n",
       "  </tbody>\n",
       "</table>\n",
       "</div>"
      ],
      "text/plain": [
       "                        name          ra        dec  \\\n",
       "0  2SLAQ J134414.15+001642.2  206.058966   0.278384   \n",
       "1                  SN 2012dy  319.711250 -57.645140   \n",
       "2               PSR J2129-04  322.438710  -4.486640   \n",
       "\n",
       "                                            skycoord stokes  \n",
       "0  <SkyCoord (ICRS): (ra, dec) in deg\\n    (206.0...      I  \n",
       "1  <SkyCoord (ICRS): (ra, dec) in deg\\n    (319.7...      I  \n",
       "2  <SkyCoord (ICRS): (ra, dec) in deg\\n    (322.4...      I  "
      ]
     },
     "execution_count": 3,
     "metadata": {},
     "output_type": "execute_result"
    }
   ],
   "source": [
    "example_query.query_df"
   ]
  },
  {
   "cell_type": "markdown",
   "metadata": {
    "execution": {
     "iopub.execute_input": "2020-08-05T08:21:27.502825Z",
     "iopub.status.busy": "2020-08-05T08:21:27.502624Z",
     "iopub.status.idle": "2020-08-05T08:21:27.507054Z",
     "shell.execute_reply": "2020-08-05T08:21:27.506272Z",
     "shell.execute_reply.started": "2020-08-05T08:21:27.502803Z"
    }
   },
   "source": [
    "If we didn't use SIMBAD and entered coordinates we would build the query as below."
   ]
  },
  {
   "cell_type": "code",
   "execution_count": 4,
   "metadata": {
    "execution": {
     "iopub.execute_input": "2020-08-05T09:49:49.714985Z",
     "iopub.status.busy": "2020-08-05T09:49:49.714849Z",
     "iopub.status.idle": "2020-08-05T09:49:50.014223Z",
     "shell.execute_reply": "2020-08-05T09:49:50.013765Z",
     "shell.execute_reply.started": "2020-08-05T09:49:49.714969Z"
    }
   },
   "outputs": [],
   "source": [
    "#Create SkyCoord of coordinates\n",
    "coords_to_query = SkyCoord([206.058966, 319.711250, 322.438710], [0.278384, -57.645140, -4.486640], unit=(u.deg, u.deg))\n",
    "source_names = [\"1AXG J134412+0016\", \"SN 2012dy\", \"PSR J2129-0429\"]\n",
    "\n",
    "example_query = Query(\n",
    "    coords=coords_to_query,\n",
    "    source_names=source_names,\n",
    "    matches_only=True, \n",
    "    epochs=\"all-vast\", \n",
    "    crossmatch_radius=10., \n",
    "    output_dir='source-search-example-output', \n",
    "    base_folder='/import/ada1/askap/PILOT/release'\n",
    ")"
   ]
  },
  {
   "cell_type": "markdown",
   "metadata": {
    "execution": {
     "iopub.execute_input": "2020-08-05T00:32:32.756311Z",
     "iopub.status.busy": "2020-08-05T00:32:32.756109Z",
     "iopub.status.idle": "2020-08-05T00:32:32.760671Z",
     "shell.execute_reply": "2020-08-05T00:32:32.759729Z",
     "shell.execute_reply.started": "2020-08-05T00:32:32.756288Z"
    }
   },
   "source": [
    "The settings can be double checked by looking at the `settings` attribute, which is a dictionary that contains the requested settings."
   ]
  },
  {
   "cell_type": "code",
   "execution_count": 5,
   "metadata": {
    "execution": {
     "iopub.execute_input": "2020-08-05T09:49:50.015086Z",
     "iopub.status.busy": "2020-08-05T09:49:50.014939Z",
     "iopub.status.idle": "2020-08-05T09:49:50.018514Z",
     "shell.execute_reply": "2020-08-05T09:49:50.018165Z",
     "shell.execute_reply.started": "2020-08-05T09:49:50.015068Z"
    }
   },
   "outputs": [
    {
     "data": {
      "text/plain": [
       "{'epochs': ['1',\n",
       "  '2',\n",
       "  '3x',\n",
       "  '4x',\n",
       "  '5x',\n",
       "  '6x',\n",
       "  '7x',\n",
       "  '8',\n",
       "  '9',\n",
       "  '10x',\n",
       "  '11x',\n",
       "  '12'],\n",
       " 'stokes': 'I',\n",
       " 'crossmatch_radius': <Angle 10. arcsec>,\n",
       " 'max_sep': 1.0,\n",
       " 'islands': False,\n",
       " 'tiles': False,\n",
       " 'no_rms': False,\n",
       " 'matches_only': True,\n",
       " 'search_around': False,\n",
       " 'sort_output': False,\n",
       " 'forced_fits': False,\n",
       " 'forced_cluster_threshold': 1.5,\n",
       " 'forced_allow_nan': False,\n",
       " 'output_dir': 'source-search-example-output'}"
      ]
     },
     "execution_count": 5,
     "metadata": {},
     "output_type": "execute_result"
    }
   ],
   "source": [
    "example_query.settings"
   ]
  },
  {
   "cell_type": "markdown",
   "metadata": {},
   "source": [
    "The query can now be run, there are two main methods available:\n",
    "\n",
    "1. `find_fields()`\n",
    "2. `find_sources()`\n",
    "\n",
    "`find_fields()` will only locate the fields that the contains the queried sources/coordinates.\n",
    "`find_sources()` will build upon `find_fields()` and perform the source crossmatching from the selavy catalogues.\n",
    "\n",
    "While `find_sources()` can be run directly (it will also run `find_fields()` for you) for the purposes of this example we'll run them separately.\n",
    "\n",
    "### Running find_fields\n",
    "\n",
    "Call the `find_fields()` method, it may take a few seconds to perform the search."
   ]
  },
  {
   "cell_type": "code",
   "execution_count": 6,
   "metadata": {
    "execution": {
     "iopub.execute_input": "2020-08-05T09:49:50.019247Z",
     "iopub.status.busy": "2020-08-05T09:49:50.019116Z",
     "iopub.status.idle": "2020-08-05T09:49:53.273201Z",
     "shell.execute_reply": "2020-08-05T09:49:53.272396Z",
     "shell.execute_reply.started": "2020-08-05T09:49:50.019231Z"
    }
   },
   "outputs": [],
   "source": [
    "example_query.find_fields()"
   ]
  },
  {
   "cell_type": "markdown",
   "metadata": {},
   "source": [
    "If you would like to check what has been found, you can look at the `fields_df` attribute that will show all the information."
   ]
  },
  {
   "cell_type": "code",
   "execution_count": 7,
   "metadata": {
    "execution": {
     "iopub.execute_input": "2020-08-05T09:49:53.274383Z",
     "iopub.status.busy": "2020-08-05T09:49:53.274214Z",
     "iopub.status.idle": "2020-08-05T09:49:53.299240Z",
     "shell.execute_reply": "2020-08-05T09:49:53.298782Z",
     "shell.execute_reply.started": "2020-08-05T09:49:53.274363Z"
    }
   },
   "outputs": [
    {
     "data": {
      "text/html": [
       "<div>\n",
       "<style scoped>\n",
       "    .dataframe tbody tr th:only-of-type {\n",
       "        vertical-align: middle;\n",
       "    }\n",
       "\n",
       "    .dataframe tbody tr th {\n",
       "        vertical-align: top;\n",
       "    }\n",
       "\n",
       "    .dataframe thead th {\n",
       "        text-align: right;\n",
       "    }\n",
       "</style>\n",
       "<table border=\"1\" class=\"dataframe\">\n",
       "  <thead>\n",
       "    <tr style=\"text-align: right;\">\n",
       "      <th></th>\n",
       "      <th>name</th>\n",
       "      <th>ra</th>\n",
       "      <th>dec</th>\n",
       "      <th>skycoord</th>\n",
       "      <th>stokes</th>\n",
       "      <th>fields</th>\n",
       "      <th>primary_field</th>\n",
       "      <th>epoch</th>\n",
       "      <th>field</th>\n",
       "      <th>sbid</th>\n",
       "      <th>dateobs</th>\n",
       "      <th>planet</th>\n",
       "    </tr>\n",
       "  </thead>\n",
       "  <tbody>\n",
       "    <tr>\n",
       "      <th>0</th>\n",
       "      <td>1AXG J134412+0016</td>\n",
       "      <td>206.058966</td>\n",
       "      <td>0.278384</td>\n",
       "      <td>&lt;SkyCoord (ICRS): (ra, dec) in deg\\n    (206.0...</td>\n",
       "      <td>I</td>\n",
       "      <td>[VAST_1351+00A]</td>\n",
       "      <td>VAST_1351+00A</td>\n",
       "      <td>1</td>\n",
       "      <td>VAST_1351+00A</td>\n",
       "      <td>9669</td>\n",
       "      <td>2019-08-28 04:04:34.932</td>\n",
       "      <td>False</td>\n",
       "    </tr>\n",
       "    <tr>\n",
       "      <th>1</th>\n",
       "      <td>1AXG J134412+0016</td>\n",
       "      <td>206.058966</td>\n",
       "      <td>0.278384</td>\n",
       "      <td>&lt;SkyCoord (ICRS): (ra, dec) in deg\\n    (206.0...</td>\n",
       "      <td>I</td>\n",
       "      <td>[VAST_1351+00A]</td>\n",
       "      <td>VAST_1351+00A</td>\n",
       "      <td>2</td>\n",
       "      <td>VAST_1351+00A</td>\n",
       "      <td>10337</td>\n",
       "      <td>2019-10-29 23:18:11.037</td>\n",
       "      <td>False</td>\n",
       "    </tr>\n",
       "    <tr>\n",
       "      <th>2</th>\n",
       "      <td>1AXG J134412+0016</td>\n",
       "      <td>206.058966</td>\n",
       "      <td>0.278384</td>\n",
       "      <td>&lt;SkyCoord (ICRS): (ra, dec) in deg\\n    (206.0...</td>\n",
       "      <td>I</td>\n",
       "      <td>[VAST_1351+00A]</td>\n",
       "      <td>VAST_1351+00A</td>\n",
       "      <td>5x</td>\n",
       "      <td>VAST_1351+00A</td>\n",
       "      <td>11148</td>\n",
       "      <td>2020-01-10 22:00:20.515</td>\n",
       "      <td>False</td>\n",
       "    </tr>\n",
       "    <tr>\n",
       "      <th>3</th>\n",
       "      <td>1AXG J134412+0016</td>\n",
       "      <td>206.058966</td>\n",
       "      <td>0.278384</td>\n",
       "      <td>&lt;SkyCoord (ICRS): (ra, dec) in deg\\n    (206.0...</td>\n",
       "      <td>I</td>\n",
       "      <td>[VAST_1351+00A]</td>\n",
       "      <td>VAST_1351+00A</td>\n",
       "      <td>8</td>\n",
       "      <td>VAST_1351+00A</td>\n",
       "      <td>11584</td>\n",
       "      <td>2020-01-25 21:25:25.682</td>\n",
       "      <td>False</td>\n",
       "    </tr>\n",
       "    <tr>\n",
       "      <th>4</th>\n",
       "      <td>1AXG J134412+0016</td>\n",
       "      <td>206.058966</td>\n",
       "      <td>0.278384</td>\n",
       "      <td>&lt;SkyCoord (ICRS): (ra, dec) in deg\\n    (206.0...</td>\n",
       "      <td>I</td>\n",
       "      <td>[VAST_1351+00A]</td>\n",
       "      <td>VAST_1351+00A</td>\n",
       "      <td>9</td>\n",
       "      <td>VAST_1351+00A</td>\n",
       "      <td>11615</td>\n",
       "      <td>2020-01-26 21:21:41.180</td>\n",
       "      <td>False</td>\n",
       "    </tr>\n",
       "    <tr>\n",
       "      <th>5</th>\n",
       "      <td>1AXG J134412+0016</td>\n",
       "      <td>206.058966</td>\n",
       "      <td>0.278384</td>\n",
       "      <td>&lt;SkyCoord (ICRS): (ra, dec) in deg\\n    (206.0...</td>\n",
       "      <td>I</td>\n",
       "      <td>[VAST_1351+00A]</td>\n",
       "      <td>VAST_1351+00A</td>\n",
       "      <td>12</td>\n",
       "      <td>VAST_1351+00A</td>\n",
       "      <td>15687</td>\n",
       "      <td>2020-08-29 06:08:31.249</td>\n",
       "      <td>False</td>\n",
       "    </tr>\n",
       "    <tr>\n",
       "      <th>6</th>\n",
       "      <td>PSR J2129-0429</td>\n",
       "      <td>322.438710</td>\n",
       "      <td>-4.486640</td>\n",
       "      <td>&lt;SkyCoord (ICRS): (ra, dec) in deg\\n    (322.4...</td>\n",
       "      <td>I</td>\n",
       "      <td>[VAST_2118-06A, VAST_2143-06A]</td>\n",
       "      <td>VAST_2118-06A</td>\n",
       "      <td>1</td>\n",
       "      <td>VAST_2118-06A</td>\n",
       "      <td>9668</td>\n",
       "      <td>2019-08-27 18:52:00.556</td>\n",
       "      <td>False</td>\n",
       "    </tr>\n",
       "    <tr>\n",
       "      <th>7</th>\n",
       "      <td>PSR J2129-0429</td>\n",
       "      <td>322.438710</td>\n",
       "      <td>-4.486640</td>\n",
       "      <td>&lt;SkyCoord (ICRS): (ra, dec) in deg\\n    (322.4...</td>\n",
       "      <td>I</td>\n",
       "      <td>[VAST_2118-06A, VAST_2143-06A]</td>\n",
       "      <td>VAST_2118-06A</td>\n",
       "      <td>3x</td>\n",
       "      <td>VAST_2118-06A</td>\n",
       "      <td>10335</td>\n",
       "      <td>2019-10-29 13:39:33.996</td>\n",
       "      <td>False</td>\n",
       "    </tr>\n",
       "    <tr>\n",
       "      <th>8</th>\n",
       "      <td>PSR J2129-0429</td>\n",
       "      <td>322.438710</td>\n",
       "      <td>-4.486640</td>\n",
       "      <td>&lt;SkyCoord (ICRS): (ra, dec) in deg\\n    (322.4...</td>\n",
       "      <td>I</td>\n",
       "      <td>[VAST_2118-06A, VAST_2143-06A]</td>\n",
       "      <td>VAST_2118-06A</td>\n",
       "      <td>2</td>\n",
       "      <td>VAST_2118-06A</td>\n",
       "      <td>10342</td>\n",
       "      <td>2019-10-30 10:11:56.913</td>\n",
       "      <td>False</td>\n",
       "    </tr>\n",
       "    <tr>\n",
       "      <th>9</th>\n",
       "      <td>PSR J2129-0429</td>\n",
       "      <td>322.438710</td>\n",
       "      <td>-4.486640</td>\n",
       "      <td>&lt;SkyCoord (ICRS): (ra, dec) in deg\\n    (322.4...</td>\n",
       "      <td>I</td>\n",
       "      <td>[VAST_2118-06A, VAST_2143-06A]</td>\n",
       "      <td>VAST_2118-06A</td>\n",
       "      <td>5x</td>\n",
       "      <td>VAST_2118-06A</td>\n",
       "      <td>11169</td>\n",
       "      <td>2020-01-11 05:40:11.007</td>\n",
       "      <td>False</td>\n",
       "    </tr>\n",
       "    <tr>\n",
       "      <th>10</th>\n",
       "      <td>PSR J2129-0429</td>\n",
       "      <td>322.438710</td>\n",
       "      <td>-4.486640</td>\n",
       "      <td>&lt;SkyCoord (ICRS): (ra, dec) in deg\\n    (322.4...</td>\n",
       "      <td>I</td>\n",
       "      <td>[VAST_2118-06A, VAST_2143-06A]</td>\n",
       "      <td>VAST_2118-06A</td>\n",
       "      <td>6x</td>\n",
       "      <td>VAST_2118-06A</td>\n",
       "      <td>11257</td>\n",
       "      <td>2020-01-12 05:36:03.834</td>\n",
       "      <td>False</td>\n",
       "    </tr>\n",
       "    <tr>\n",
       "      <th>11</th>\n",
       "      <td>PSR J2129-0429</td>\n",
       "      <td>322.438710</td>\n",
       "      <td>-4.486640</td>\n",
       "      <td>&lt;SkyCoord (ICRS): (ra, dec) in deg\\n    (322.4...</td>\n",
       "      <td>I</td>\n",
       "      <td>[VAST_2118-06A, VAST_2143-06A]</td>\n",
       "      <td>VAST_2118-06A</td>\n",
       "      <td>8</td>\n",
       "      <td>VAST_2118-06A</td>\n",
       "      <td>11429</td>\n",
       "      <td>2020-01-18 05:00:37.814</td>\n",
       "      <td>False</td>\n",
       "    </tr>\n",
       "    <tr>\n",
       "      <th>12</th>\n",
       "      <td>PSR J2129-0429</td>\n",
       "      <td>322.438710</td>\n",
       "      <td>-4.486640</td>\n",
       "      <td>&lt;SkyCoord (ICRS): (ra, dec) in deg\\n    (322.4...</td>\n",
       "      <td>I</td>\n",
       "      <td>[VAST_2118-06A, VAST_2143-06A]</td>\n",
       "      <td>VAST_2118-06A</td>\n",
       "      <td>9</td>\n",
       "      <td>VAST_2118-06A</td>\n",
       "      <td>11501</td>\n",
       "      <td>2020-01-19 04:56:28.318</td>\n",
       "      <td>False</td>\n",
       "    </tr>\n",
       "    <tr>\n",
       "      <th>13</th>\n",
       "      <td>PSR J2129-0429</td>\n",
       "      <td>322.438710</td>\n",
       "      <td>-4.486640</td>\n",
       "      <td>&lt;SkyCoord (ICRS): (ra, dec) in deg\\n    (322.4...</td>\n",
       "      <td>I</td>\n",
       "      <td>[VAST_2118-06A, VAST_2143-06A]</td>\n",
       "      <td>VAST_2118-06A</td>\n",
       "      <td>12</td>\n",
       "      <td>VAST_2118-06A</td>\n",
       "      <td>15711</td>\n",
       "      <td>2020-08-29 13:35:35.338</td>\n",
       "      <td>False</td>\n",
       "    </tr>\n",
       "    <tr>\n",
       "      <th>14</th>\n",
       "      <td>SN 2012dy</td>\n",
       "      <td>319.711250</td>\n",
       "      <td>-57.645140</td>\n",
       "      <td>&lt;SkyCoord (ICRS): (ra, dec) in deg\\n    (319.7...</td>\n",
       "      <td>I</td>\n",
       "      <td>[VAST_2131-56A]</td>\n",
       "      <td>VAST_2131-56A</td>\n",
       "      <td>1</td>\n",
       "      <td>VAST_2131-56A</td>\n",
       "      <td>9673</td>\n",
       "      <td>2019-08-28 14:25:27.516</td>\n",
       "      <td>False</td>\n",
       "    </tr>\n",
       "    <tr>\n",
       "      <th>15</th>\n",
       "      <td>SN 2012dy</td>\n",
       "      <td>319.711250</td>\n",
       "      <td>-57.645140</td>\n",
       "      <td>&lt;SkyCoord (ICRS): (ra, dec) in deg\\n    (319.7...</td>\n",
       "      <td>I</td>\n",
       "      <td>[VAST_2131-56A]</td>\n",
       "      <td>VAST_2131-56A</td>\n",
       "      <td>2</td>\n",
       "      <td>VAST_2131-56A</td>\n",
       "      <td>10338</td>\n",
       "      <td>2019-10-30 05:04:03.625</td>\n",
       "      <td>False</td>\n",
       "    </tr>\n",
       "    <tr>\n",
       "      <th>16</th>\n",
       "      <td>SN 2012dy</td>\n",
       "      <td>319.711250</td>\n",
       "      <td>-57.645140</td>\n",
       "      <td>&lt;SkyCoord (ICRS): (ra, dec) in deg\\n    (319.7...</td>\n",
       "      <td>I</td>\n",
       "      <td>[VAST_2131-56A]</td>\n",
       "      <td>VAST_2131-56A</td>\n",
       "      <td>8</td>\n",
       "      <td>VAST_2131-56A</td>\n",
       "      <td>11686</td>\n",
       "      <td>2020-02-01 04:15:47.663</td>\n",
       "      <td>False</td>\n",
       "    </tr>\n",
       "    <tr>\n",
       "      <th>17</th>\n",
       "      <td>SN 2012dy</td>\n",
       "      <td>319.711250</td>\n",
       "      <td>-57.645140</td>\n",
       "      <td>&lt;SkyCoord (ICRS): (ra, dec) in deg\\n    (319.7...</td>\n",
       "      <td>I</td>\n",
       "      <td>[VAST_2131-56A]</td>\n",
       "      <td>VAST_2131-56A</td>\n",
       "      <td>9</td>\n",
       "      <td>VAST_2131-56A</td>\n",
       "      <td>11708</td>\n",
       "      <td>2020-02-02 04:11:33.302</td>\n",
       "      <td>False</td>\n",
       "    </tr>\n",
       "    <tr>\n",
       "      <th>18</th>\n",
       "      <td>SN 2012dy</td>\n",
       "      <td>319.711250</td>\n",
       "      <td>-57.645140</td>\n",
       "      <td>&lt;SkyCoord (ICRS): (ra, dec) in deg\\n    (319.7...</td>\n",
       "      <td>I</td>\n",
       "      <td>[VAST_2131-56A]</td>\n",
       "      <td>VAST_2131-56A</td>\n",
       "      <td>12</td>\n",
       "      <td>VAST_2131-56A</td>\n",
       "      <td>15769</td>\n",
       "      <td>2020-08-30 13:48:36.118</td>\n",
       "      <td>False</td>\n",
       "    </tr>\n",
       "  </tbody>\n",
       "</table>\n",
       "</div>"
      ],
      "text/plain": [
       "                 name          ra        dec  \\\n",
       "0   1AXG J134412+0016  206.058966   0.278384   \n",
       "1   1AXG J134412+0016  206.058966   0.278384   \n",
       "2   1AXG J134412+0016  206.058966   0.278384   \n",
       "3   1AXG J134412+0016  206.058966   0.278384   \n",
       "4   1AXG J134412+0016  206.058966   0.278384   \n",
       "5   1AXG J134412+0016  206.058966   0.278384   \n",
       "6      PSR J2129-0429  322.438710  -4.486640   \n",
       "7      PSR J2129-0429  322.438710  -4.486640   \n",
       "8      PSR J2129-0429  322.438710  -4.486640   \n",
       "9      PSR J2129-0429  322.438710  -4.486640   \n",
       "10     PSR J2129-0429  322.438710  -4.486640   \n",
       "11     PSR J2129-0429  322.438710  -4.486640   \n",
       "12     PSR J2129-0429  322.438710  -4.486640   \n",
       "13     PSR J2129-0429  322.438710  -4.486640   \n",
       "14          SN 2012dy  319.711250 -57.645140   \n",
       "15          SN 2012dy  319.711250 -57.645140   \n",
       "16          SN 2012dy  319.711250 -57.645140   \n",
       "17          SN 2012dy  319.711250 -57.645140   \n",
       "18          SN 2012dy  319.711250 -57.645140   \n",
       "\n",
       "                                             skycoord stokes  \\\n",
       "0   <SkyCoord (ICRS): (ra, dec) in deg\\n    (206.0...      I   \n",
       "1   <SkyCoord (ICRS): (ra, dec) in deg\\n    (206.0...      I   \n",
       "2   <SkyCoord (ICRS): (ra, dec) in deg\\n    (206.0...      I   \n",
       "3   <SkyCoord (ICRS): (ra, dec) in deg\\n    (206.0...      I   \n",
       "4   <SkyCoord (ICRS): (ra, dec) in deg\\n    (206.0...      I   \n",
       "5   <SkyCoord (ICRS): (ra, dec) in deg\\n    (206.0...      I   \n",
       "6   <SkyCoord (ICRS): (ra, dec) in deg\\n    (322.4...      I   \n",
       "7   <SkyCoord (ICRS): (ra, dec) in deg\\n    (322.4...      I   \n",
       "8   <SkyCoord (ICRS): (ra, dec) in deg\\n    (322.4...      I   \n",
       "9   <SkyCoord (ICRS): (ra, dec) in deg\\n    (322.4...      I   \n",
       "10  <SkyCoord (ICRS): (ra, dec) in deg\\n    (322.4...      I   \n",
       "11  <SkyCoord (ICRS): (ra, dec) in deg\\n    (322.4...      I   \n",
       "12  <SkyCoord (ICRS): (ra, dec) in deg\\n    (322.4...      I   \n",
       "13  <SkyCoord (ICRS): (ra, dec) in deg\\n    (322.4...      I   \n",
       "14  <SkyCoord (ICRS): (ra, dec) in deg\\n    (319.7...      I   \n",
       "15  <SkyCoord (ICRS): (ra, dec) in deg\\n    (319.7...      I   \n",
       "16  <SkyCoord (ICRS): (ra, dec) in deg\\n    (319.7...      I   \n",
       "17  <SkyCoord (ICRS): (ra, dec) in deg\\n    (319.7...      I   \n",
       "18  <SkyCoord (ICRS): (ra, dec) in deg\\n    (319.7...      I   \n",
       "\n",
       "                            fields  primary_field epoch          field   sbid  \\\n",
       "0                  [VAST_1351+00A]  VAST_1351+00A     1  VAST_1351+00A   9669   \n",
       "1                  [VAST_1351+00A]  VAST_1351+00A     2  VAST_1351+00A  10337   \n",
       "2                  [VAST_1351+00A]  VAST_1351+00A    5x  VAST_1351+00A  11148   \n",
       "3                  [VAST_1351+00A]  VAST_1351+00A     8  VAST_1351+00A  11584   \n",
       "4                  [VAST_1351+00A]  VAST_1351+00A     9  VAST_1351+00A  11615   \n",
       "5                  [VAST_1351+00A]  VAST_1351+00A    12  VAST_1351+00A  15687   \n",
       "6   [VAST_2118-06A, VAST_2143-06A]  VAST_2118-06A     1  VAST_2118-06A   9668   \n",
       "7   [VAST_2118-06A, VAST_2143-06A]  VAST_2118-06A    3x  VAST_2118-06A  10335   \n",
       "8   [VAST_2118-06A, VAST_2143-06A]  VAST_2118-06A     2  VAST_2118-06A  10342   \n",
       "9   [VAST_2118-06A, VAST_2143-06A]  VAST_2118-06A    5x  VAST_2118-06A  11169   \n",
       "10  [VAST_2118-06A, VAST_2143-06A]  VAST_2118-06A    6x  VAST_2118-06A  11257   \n",
       "11  [VAST_2118-06A, VAST_2143-06A]  VAST_2118-06A     8  VAST_2118-06A  11429   \n",
       "12  [VAST_2118-06A, VAST_2143-06A]  VAST_2118-06A     9  VAST_2118-06A  11501   \n",
       "13  [VAST_2118-06A, VAST_2143-06A]  VAST_2118-06A    12  VAST_2118-06A  15711   \n",
       "14                 [VAST_2131-56A]  VAST_2131-56A     1  VAST_2131-56A   9673   \n",
       "15                 [VAST_2131-56A]  VAST_2131-56A     2  VAST_2131-56A  10338   \n",
       "16                 [VAST_2131-56A]  VAST_2131-56A     8  VAST_2131-56A  11686   \n",
       "17                 [VAST_2131-56A]  VAST_2131-56A     9  VAST_2131-56A  11708   \n",
       "18                 [VAST_2131-56A]  VAST_2131-56A    12  VAST_2131-56A  15769   \n",
       "\n",
       "                   dateobs  planet  \n",
       "0  2019-08-28 04:04:34.932   False  \n",
       "1  2019-10-29 23:18:11.037   False  \n",
       "2  2020-01-10 22:00:20.515   False  \n",
       "3  2020-01-25 21:25:25.682   False  \n",
       "4  2020-01-26 21:21:41.180   False  \n",
       "5  2020-08-29 06:08:31.249   False  \n",
       "6  2019-08-27 18:52:00.556   False  \n",
       "7  2019-10-29 13:39:33.996   False  \n",
       "8  2019-10-30 10:11:56.913   False  \n",
       "9  2020-01-11 05:40:11.007   False  \n",
       "10 2020-01-12 05:36:03.834   False  \n",
       "11 2020-01-18 05:00:37.814   False  \n",
       "12 2020-01-19 04:56:28.318   False  \n",
       "13 2020-08-29 13:35:35.338   False  \n",
       "14 2019-08-28 14:25:27.516   False  \n",
       "15 2019-10-30 05:04:03.625   False  \n",
       "16 2020-02-01 04:15:47.663   False  \n",
       "17 2020-02-02 04:11:33.302   False  \n",
       "18 2020-08-30 13:48:36.118   False  "
      ]
     },
     "execution_count": 7,
     "metadata": {},
     "output_type": "execute_result"
    }
   ],
   "source": [
    "example_query.fields_df"
   ]
  },
  {
   "cell_type": "markdown",
   "metadata": {},
   "source": [
    "The results of find_fields can be written to a file if you you would like to:"
   ]
  },
  {
   "cell_type": "code",
   "execution_count": 8,
   "metadata": {
    "execution": {
     "iopub.execute_input": "2020-08-05T09:49:53.300068Z",
     "iopub.status.busy": "2020-08-05T09:49:53.299933Z",
     "iopub.status.idle": "2020-08-05T09:49:53.312987Z",
     "shell.execute_reply": "2020-08-05T09:49:53.312460Z",
     "shell.execute_reply.started": "2020-08-05T09:49:53.300051Z"
    }
   },
   "outputs": [],
   "source": [
    "example_query.write_find_fields()"
   ]
  },
  {
   "cell_type": "markdown",
   "metadata": {},
   "source": [
    "### Running find_sources\n",
    "\n",
    "Now we would like to find the actual crossmatches (if any) to the sources/coordiantes. Now we can call `find_sources()`, which again will take a few seconds to complete:"
   ]
  },
  {
   "cell_type": "code",
   "execution_count": 9,
   "metadata": {
    "execution": {
     "iopub.execute_input": "2020-08-05T09:49:53.314525Z",
     "iopub.status.busy": "2020-08-05T09:49:53.314391Z",
     "iopub.status.idle": "2020-08-05T09:50:05.120044Z",
     "shell.execute_reply": "2020-08-05T09:50:05.119393Z",
     "shell.execute_reply.started": "2020-08-05T09:49:53.314510Z"
    }
   },
   "outputs": [],
   "source": [
    "example_query.find_sources()"
   ]
  },
  {
   "cell_type": "markdown",
   "metadata": {
    "execution": {
     "iopub.execute_input": "2020-08-05T00:44:03.697554Z",
     "iopub.status.busy": "2020-08-05T00:44:03.697218Z",
     "iopub.status.idle": "2020-08-05T00:44:03.721372Z",
     "shell.execute_reply": "2020-08-05T00:44:03.720553Z",
     "shell.execute_reply.started": "2020-08-05T00:44:03.697516Z"
    }
   },
   "source": [
    "### Looking at the find_sources results\n",
    "\n",
    "The results of `find_sources()` are stored in the results attribute:"
   ]
  },
  {
   "cell_type": "code",
   "execution_count": 10,
   "metadata": {
    "execution": {
     "iopub.execute_input": "2020-08-05T09:50:05.121442Z",
     "iopub.status.busy": "2020-08-05T09:50:05.121281Z",
     "iopub.status.idle": "2020-08-05T09:50:05.126179Z",
     "shell.execute_reply": "2020-08-05T09:50:05.125809Z",
     "shell.execute_reply.started": "2020-08-05T09:50:05.121423Z"
    }
   },
   "outputs": [
    {
     "data": {
      "text/plain": [
       "name\n",
       "1AXG J134412+0016    <vasttools.source.Source object at 0x7fcd45667...\n",
       "SN 2012dy            <vasttools.source.Source object at 0x7fcd45644...\n",
       "PSR J2129-0429       <vasttools.source.Source object at 0x7fcd45963...\n",
       "Name: name, dtype: object"
      ]
     },
     "execution_count": 10,
     "metadata": {},
     "output_type": "execute_result"
    }
   ],
   "source": [
    "example_query.results"
   ]
  },
  {
   "cell_type": "markdown",
   "metadata": {},
   "source": [
    "It is a pandas series object, which contains a vast-tools `Source` object for each result, accessed by using the souce name as the index. \n",
    "\n",
    "For example lets look at the `PSR J2129-04` result. For convenience we'll assign the object to the variable `my_source`."
   ]
  },
  {
   "cell_type": "code",
   "execution_count": 11,
   "metadata": {
    "execution": {
     "iopub.execute_input": "2020-08-05T09:50:05.126888Z",
     "iopub.status.busy": "2020-08-05T09:50:05.126752Z",
     "iopub.status.idle": "2020-08-05T09:50:05.137159Z",
     "shell.execute_reply": "2020-08-05T09:50:05.136772Z",
     "shell.execute_reply.started": "2020-08-05T09:50:05.126872Z"
    }
   },
   "outputs": [],
   "source": [
    "my_source = example_query.results['PSR J2129-0429']"
   ]
  },
  {
   "cell_type": "markdown",
   "metadata": {},
   "source": [
    "Below will show you all the plotting and searching you can do with a source object, which includes:\n",
    "\n",
    "* Viewing and saving the measurements.\n",
    "* Plotting a lightcurve.\n",
    "* Calculate variability metrics.\n",
    "* Displaying the source cutout from the FITS file per epoch.\n",
    "* Display all the cutouts together.\n",
    "* Create an astroquery 'SkyView' plot with ASKAP contours per epoch.\n",
    "* Search other services such as SIMBAD or CASDA."
   ]
  },
  {
   "cell_type": "code",
   "execution_count": 12,
   "metadata": {
    "execution": {
     "iopub.execute_input": "2020-08-05T09:50:05.137841Z",
     "iopub.status.busy": "2020-08-05T09:50:05.137706Z",
     "iopub.status.idle": "2020-08-05T09:50:05.167270Z",
     "shell.execute_reply": "2020-08-05T09:50:05.166911Z",
     "shell.execute_reply.started": "2020-08-05T09:50:05.137826Z"
    }
   },
   "outputs": [
    {
     "data": {
      "text/html": [
       "<div>\n",
       "<style scoped>\n",
       "    .dataframe tbody tr th:only-of-type {\n",
       "        vertical-align: middle;\n",
       "    }\n",
       "\n",
       "    .dataframe tbody tr th {\n",
       "        vertical-align: top;\n",
       "    }\n",
       "\n",
       "    .dataframe thead th {\n",
       "        text-align: right;\n",
       "    }\n",
       "</style>\n",
       "<table border=\"1\" class=\"dataframe\">\n",
       "  <thead>\n",
       "    <tr style=\"text-align: right;\">\n",
       "      <th></th>\n",
       "      <th>name</th>\n",
       "      <th>ra</th>\n",
       "      <th>dec</th>\n",
       "      <th>skycoord</th>\n",
       "      <th>stokes</th>\n",
       "      <th>fields</th>\n",
       "      <th>primary_field</th>\n",
       "      <th>epoch</th>\n",
       "      <th>field</th>\n",
       "      <th>sbid</th>\n",
       "      <th>...</th>\n",
       "      <th>spectral_curvature</th>\n",
       "      <th>spectral_index_err</th>\n",
       "      <th>spectral_curvature_err</th>\n",
       "      <th>rms_image</th>\n",
       "      <th>has_siblings</th>\n",
       "      <th>fit_is_estimate</th>\n",
       "      <th>spectral_index_from_TT</th>\n",
       "      <th>flag_c4</th>\n",
       "      <th>comment</th>\n",
       "      <th>detection</th>\n",
       "    </tr>\n",
       "  </thead>\n",
       "  <tbody>\n",
       "    <tr>\n",
       "      <th>0</th>\n",
       "      <td>PSR J2129-0429</td>\n",
       "      <td>322.43871</td>\n",
       "      <td>-4.48664</td>\n",
       "      <td>&lt;SkyCoord (ICRS): (ra, dec) in deg\\n    (322.4...</td>\n",
       "      <td>I</td>\n",
       "      <td>[VAST_2118-06A, VAST_2143-06A]</td>\n",
       "      <td>VAST_2118-06A</td>\n",
       "      <td>1</td>\n",
       "      <td>VAST_2118-06A</td>\n",
       "      <td>9668</td>\n",
       "      <td>...</td>\n",
       "      <td>NaN</td>\n",
       "      <td>NaN</td>\n",
       "      <td>NaN</td>\n",
       "      <td>0.251606</td>\n",
       "      <td>NaN</td>\n",
       "      <td>NaN</td>\n",
       "      <td>NaN</td>\n",
       "      <td>NaN</td>\n",
       "      <td>NaN</td>\n",
       "      <td>False</td>\n",
       "    </tr>\n",
       "    <tr>\n",
       "      <th>1</th>\n",
       "      <td>PSR J2129-0429</td>\n",
       "      <td>322.43871</td>\n",
       "      <td>-4.48664</td>\n",
       "      <td>&lt;SkyCoord (ICRS): (ra, dec) in deg\\n    (322.4...</td>\n",
       "      <td>I</td>\n",
       "      <td>[VAST_2118-06A, VAST_2143-06A]</td>\n",
       "      <td>VAST_2118-06A</td>\n",
       "      <td>3x</td>\n",
       "      <td>VAST_2118-06A</td>\n",
       "      <td>10335</td>\n",
       "      <td>...</td>\n",
       "      <td>NaN</td>\n",
       "      <td>NaN</td>\n",
       "      <td>NaN</td>\n",
       "      <td>0.219291</td>\n",
       "      <td>NaN</td>\n",
       "      <td>NaN</td>\n",
       "      <td>NaN</td>\n",
       "      <td>NaN</td>\n",
       "      <td>NaN</td>\n",
       "      <td>False</td>\n",
       "    </tr>\n",
       "    <tr>\n",
       "      <th>2</th>\n",
       "      <td>PSR J2129-0429</td>\n",
       "      <td>322.43871</td>\n",
       "      <td>-4.48664</td>\n",
       "      <td>&lt;SkyCoord (ICRS): (ra, dec) in deg\\n    (322.4...</td>\n",
       "      <td>I</td>\n",
       "      <td>[VAST_2118-06A, VAST_2143-06A]</td>\n",
       "      <td>VAST_2118-06A</td>\n",
       "      <td>2</td>\n",
       "      <td>VAST_2118-06A</td>\n",
       "      <td>10342</td>\n",
       "      <td>...</td>\n",
       "      <td>NaN</td>\n",
       "      <td>NaN</td>\n",
       "      <td>NaN</td>\n",
       "      <td>0.237447</td>\n",
       "      <td>NaN</td>\n",
       "      <td>NaN</td>\n",
       "      <td>NaN</td>\n",
       "      <td>NaN</td>\n",
       "      <td>NaN</td>\n",
       "      <td>False</td>\n",
       "    </tr>\n",
       "    <tr>\n",
       "      <th>3</th>\n",
       "      <td>PSR J2129-0429</td>\n",
       "      <td>322.43871</td>\n",
       "      <td>-4.48664</td>\n",
       "      <td>&lt;SkyCoord (ICRS): (ra, dec) in deg\\n    (322.4...</td>\n",
       "      <td>I</td>\n",
       "      <td>[VAST_2118-06A, VAST_2143-06A]</td>\n",
       "      <td>VAST_2118-06A</td>\n",
       "      <td>5x</td>\n",
       "      <td>VAST_2118-06A</td>\n",
       "      <td>11169</td>\n",
       "      <td>...</td>\n",
       "      <td>-99.0</td>\n",
       "      <td>0.01</td>\n",
       "      <td>0.0</td>\n",
       "      <td>0.249000</td>\n",
       "      <td>0.0</td>\n",
       "      <td>0.0</td>\n",
       "      <td>1.0</td>\n",
       "      <td>0.0</td>\n",
       "      <td>NaN</td>\n",
       "      <td>True</td>\n",
       "    </tr>\n",
       "    <tr>\n",
       "      <th>4</th>\n",
       "      <td>PSR J2129-0429</td>\n",
       "      <td>322.43871</td>\n",
       "      <td>-4.48664</td>\n",
       "      <td>&lt;SkyCoord (ICRS): (ra, dec) in deg\\n    (322.4...</td>\n",
       "      <td>I</td>\n",
       "      <td>[VAST_2118-06A, VAST_2143-06A]</td>\n",
       "      <td>VAST_2118-06A</td>\n",
       "      <td>6x</td>\n",
       "      <td>VAST_2118-06A</td>\n",
       "      <td>11257</td>\n",
       "      <td>...</td>\n",
       "      <td>-99.0</td>\n",
       "      <td>0.00</td>\n",
       "      <td>0.0</td>\n",
       "      <td>0.278000</td>\n",
       "      <td>0.0</td>\n",
       "      <td>0.0</td>\n",
       "      <td>1.0</td>\n",
       "      <td>0.0</td>\n",
       "      <td>NaN</td>\n",
       "      <td>True</td>\n",
       "    </tr>\n",
       "    <tr>\n",
       "      <th>5</th>\n",
       "      <td>PSR J2129-0429</td>\n",
       "      <td>322.43871</td>\n",
       "      <td>-4.48664</td>\n",
       "      <td>&lt;SkyCoord (ICRS): (ra, dec) in deg\\n    (322.4...</td>\n",
       "      <td>I</td>\n",
       "      <td>[VAST_2118-06A, VAST_2143-06A]</td>\n",
       "      <td>VAST_2118-06A</td>\n",
       "      <td>8</td>\n",
       "      <td>VAST_2118-06A</td>\n",
       "      <td>11429</td>\n",
       "      <td>...</td>\n",
       "      <td>-99.0</td>\n",
       "      <td>0.01</td>\n",
       "      <td>0.0</td>\n",
       "      <td>0.213000</td>\n",
       "      <td>0.0</td>\n",
       "      <td>0.0</td>\n",
       "      <td>1.0</td>\n",
       "      <td>0.0</td>\n",
       "      <td>NaN</td>\n",
       "      <td>True</td>\n",
       "    </tr>\n",
       "    <tr>\n",
       "      <th>6</th>\n",
       "      <td>PSR J2129-0429</td>\n",
       "      <td>322.43871</td>\n",
       "      <td>-4.48664</td>\n",
       "      <td>&lt;SkyCoord (ICRS): (ra, dec) in deg\\n    (322.4...</td>\n",
       "      <td>I</td>\n",
       "      <td>[VAST_2118-06A, VAST_2143-06A]</td>\n",
       "      <td>VAST_2118-06A</td>\n",
       "      <td>9</td>\n",
       "      <td>VAST_2118-06A</td>\n",
       "      <td>11501</td>\n",
       "      <td>...</td>\n",
       "      <td>-99.0</td>\n",
       "      <td>0.00</td>\n",
       "      <td>0.0</td>\n",
       "      <td>0.242000</td>\n",
       "      <td>0.0</td>\n",
       "      <td>0.0</td>\n",
       "      <td>1.0</td>\n",
       "      <td>0.0</td>\n",
       "      <td>NaN</td>\n",
       "      <td>True</td>\n",
       "    </tr>\n",
       "    <tr>\n",
       "      <th>7</th>\n",
       "      <td>PSR J2129-0429</td>\n",
       "      <td>322.43871</td>\n",
       "      <td>-4.48664</td>\n",
       "      <td>&lt;SkyCoord (ICRS): (ra, dec) in deg\\n    (322.4...</td>\n",
       "      <td>I</td>\n",
       "      <td>[VAST_2118-06A, VAST_2143-06A]</td>\n",
       "      <td>VAST_2118-06A</td>\n",
       "      <td>12</td>\n",
       "      <td>VAST_2118-06A</td>\n",
       "      <td>15711</td>\n",
       "      <td>...</td>\n",
       "      <td>NaN</td>\n",
       "      <td>NaN</td>\n",
       "      <td>NaN</td>\n",
       "      <td>0.266251</td>\n",
       "      <td>NaN</td>\n",
       "      <td>NaN</td>\n",
       "      <td>NaN</td>\n",
       "      <td>NaN</td>\n",
       "      <td>NaN</td>\n",
       "      <td>False</td>\n",
       "    </tr>\n",
       "  </tbody>\n",
       "</table>\n",
       "<p>8 rows × 54 columns</p>\n",
       "</div>"
      ],
      "text/plain": [
       "             name         ra      dec  \\\n",
       "0  PSR J2129-0429  322.43871 -4.48664   \n",
       "1  PSR J2129-0429  322.43871 -4.48664   \n",
       "2  PSR J2129-0429  322.43871 -4.48664   \n",
       "3  PSR J2129-0429  322.43871 -4.48664   \n",
       "4  PSR J2129-0429  322.43871 -4.48664   \n",
       "5  PSR J2129-0429  322.43871 -4.48664   \n",
       "6  PSR J2129-0429  322.43871 -4.48664   \n",
       "7  PSR J2129-0429  322.43871 -4.48664   \n",
       "\n",
       "                                            skycoord stokes  \\\n",
       "0  <SkyCoord (ICRS): (ra, dec) in deg\\n    (322.4...      I   \n",
       "1  <SkyCoord (ICRS): (ra, dec) in deg\\n    (322.4...      I   \n",
       "2  <SkyCoord (ICRS): (ra, dec) in deg\\n    (322.4...      I   \n",
       "3  <SkyCoord (ICRS): (ra, dec) in deg\\n    (322.4...      I   \n",
       "4  <SkyCoord (ICRS): (ra, dec) in deg\\n    (322.4...      I   \n",
       "5  <SkyCoord (ICRS): (ra, dec) in deg\\n    (322.4...      I   \n",
       "6  <SkyCoord (ICRS): (ra, dec) in deg\\n    (322.4...      I   \n",
       "7  <SkyCoord (ICRS): (ra, dec) in deg\\n    (322.4...      I   \n",
       "\n",
       "                           fields  primary_field epoch          field   sbid  \\\n",
       "0  [VAST_2118-06A, VAST_2143-06A]  VAST_2118-06A     1  VAST_2118-06A   9668   \n",
       "1  [VAST_2118-06A, VAST_2143-06A]  VAST_2118-06A    3x  VAST_2118-06A  10335   \n",
       "2  [VAST_2118-06A, VAST_2143-06A]  VAST_2118-06A     2  VAST_2118-06A  10342   \n",
       "3  [VAST_2118-06A, VAST_2143-06A]  VAST_2118-06A    5x  VAST_2118-06A  11169   \n",
       "4  [VAST_2118-06A, VAST_2143-06A]  VAST_2118-06A    6x  VAST_2118-06A  11257   \n",
       "5  [VAST_2118-06A, VAST_2143-06A]  VAST_2118-06A     8  VAST_2118-06A  11429   \n",
       "6  [VAST_2118-06A, VAST_2143-06A]  VAST_2118-06A     9  VAST_2118-06A  11501   \n",
       "7  [VAST_2118-06A, VAST_2143-06A]  VAST_2118-06A    12  VAST_2118-06A  15711   \n",
       "\n",
       "   ... spectral_curvature  spectral_index_err spectral_curvature_err  \\\n",
       "0  ...                NaN                 NaN                    NaN   \n",
       "1  ...                NaN                 NaN                    NaN   \n",
       "2  ...                NaN                 NaN                    NaN   \n",
       "3  ...              -99.0                0.01                    0.0   \n",
       "4  ...              -99.0                0.00                    0.0   \n",
       "5  ...              -99.0                0.01                    0.0   \n",
       "6  ...              -99.0                0.00                    0.0   \n",
       "7  ...                NaN                 NaN                    NaN   \n",
       "\n",
       "  rms_image has_siblings fit_is_estimate spectral_index_from_TT flag_c4  \\\n",
       "0  0.251606          NaN             NaN                    NaN     NaN   \n",
       "1  0.219291          NaN             NaN                    NaN     NaN   \n",
       "2  0.237447          NaN             NaN                    NaN     NaN   \n",
       "3  0.249000          0.0             0.0                    1.0     0.0   \n",
       "4  0.278000          0.0             0.0                    1.0     0.0   \n",
       "5  0.213000          0.0             0.0                    1.0     0.0   \n",
       "6  0.242000          0.0             0.0                    1.0     0.0   \n",
       "7  0.266251          NaN             NaN                    NaN     NaN   \n",
       "\n",
       "  comment detection  \n",
       "0     NaN     False  \n",
       "1     NaN     False  \n",
       "2     NaN     False  \n",
       "3     NaN      True  \n",
       "4     NaN      True  \n",
       "5     NaN      True  \n",
       "6     NaN      True  \n",
       "7     NaN     False  \n",
       "\n",
       "[8 rows x 54 columns]"
      ]
     },
     "execution_count": 12,
     "metadata": {},
     "output_type": "execute_result"
    }
   ],
   "source": [
    "my_source.measurements"
   ]
  },
  {
   "cell_type": "code",
   "execution_count": 13,
   "metadata": {
    "execution": {
     "iopub.execute_input": "2020-08-05T09:50:05.167966Z",
     "iopub.status.busy": "2020-08-05T09:50:05.167839Z",
     "iopub.status.idle": "2020-08-05T09:50:05.173707Z",
     "shell.execute_reply": "2020-08-05T09:50:05.173266Z",
     "shell.execute_reply.started": "2020-08-05T09:50:05.167951Z"
    }
   },
   "outputs": [],
   "source": [
    "my_source.write_measurements()"
   ]
  },
  {
   "cell_type": "code",
   "execution_count": 14,
   "metadata": {
    "execution": {
     "iopub.execute_input": "2020-08-05T09:50:05.174426Z",
     "iopub.status.busy": "2020-08-05T09:50:05.174298Z",
     "iopub.status.idle": "2020-08-05T09:50:05.376442Z",
     "shell.execute_reply": "2020-08-05T09:50:05.376055Z",
     "shell.execute_reply.started": "2020-08-05T09:50:05.174411Z"
    }
   },
   "outputs": [
    {
     "data": {
      "image/png": "[encoded data removed]",
      "text/plain": [
       "<Figure size 720x360 with 1 Axes>"
      ]
     },
     "execution_count": 14,
     "metadata": {},
     "output_type": "execute_result"
    }
   ],
   "source": [
    "lightcurve = my_source.plot_lightcurve(figsize=(10,5))\n",
    "lightcurve"
   ]
  },
  {
   "cell_type": "code",
   "execution_count": 17,
   "metadata": {
    "execution": {
     "iopub.execute_input": "2020-08-05T09:50:05.377196Z",
     "iopub.status.busy": "2020-08-05T09:50:05.377062Z",
     "iopub.status.idle": "2020-08-05T09:50:05.386674Z",
     "shell.execute_reply": "2020-08-05T09:50:05.386334Z",
     "shell.execute_reply.started": "2020-08-05T09:50:05.377181Z"
    }
   },
   "outputs": [
    {
     "data": {
      "text/plain": [
       "(1063.6368617376284, 0.8766429479101637)"
      ]
     },
     "execution_count": 17,
     "metadata": {},
     "output_type": "execute_result"
    }
   ],
   "source": [
    "my_source.calc_eta_and_v_metrics()"
   ]
  },
  {
   "cell_type": "code",
   "execution_count": 19,
   "metadata": {
    "execution": {
     "iopub.execute_input": "2020-08-05T09:50:05.387390Z",
     "iopub.status.busy": "2020-08-05T09:50:05.387261Z",
     "iopub.status.idle": "2020-08-05T09:50:07.135376Z",
     "shell.execute_reply": "2020-08-05T09:50:07.134907Z",
     "shell.execute_reply.started": "2020-08-05T09:50:05.387375Z"
    }
   },
   "outputs": [],
   "source": [
    "epoch6x_cutout = my_source.save_png_cutout('6x', plot_dpi=300)\n",
    "epoch6x_cutout"
   ]
  },
  {
   "cell_type": "code",
   "execution_count": 18,
   "metadata": {
    "execution": {
     "iopub.execute_input": "2020-08-05T09:50:07.136251Z",
     "iopub.status.busy": "2020-08-05T09:50:07.136105Z",
     "iopub.status.idle": "2020-08-05T09:50:08.145679Z",
     "shell.execute_reply": "2020-08-05T09:50:08.145228Z",
     "shell.execute_reply.started": "2020-08-05T09:50:07.136233Z"
    }
   },
   "outputs": [
    {
     "ename": "TypeError",
     "evalue": "save_all_png_cutouts() got an unexpected keyword argument 'dpi'",
     "output_type": "error",
     "traceback": [
      "\u001b[0;31m---------------------------------------------------------------------------\u001b[0m",
      "\u001b[0;31mTypeError\u001b[0m                                 Traceback (most recent call last)",
      "\u001b[0;32m<ipython-input-18-fca57abc5184>\u001b[0m in \u001b[0;36m<module>\u001b[0;34m\u001b[0m\n\u001b[0;32m----> 1\u001b[0;31m \u001b[0mall_cutouts\u001b[0m \u001b[0;34m=\u001b[0m \u001b[0mmy_source\u001b[0m\u001b[0;34m.\u001b[0m\u001b[0msave_all_png_cutouts\u001b[0m\u001b[0;34m(\u001b[0m\u001b[0mdpi\u001b[0m\u001b[0;34m=\u001b[0m\u001b[0;36m200\u001b[0m\u001b[0;34m)\u001b[0m\u001b[0;34m\u001b[0m\u001b[0;34m\u001b[0m\u001b[0m\n\u001b[0m\u001b[1;32m      2\u001b[0m \u001b[0mall_cutouts\u001b[0m\u001b[0;34m\u001b[0m\u001b[0;34m\u001b[0m\u001b[0m\n",
      "\u001b[0;31mTypeError\u001b[0m: save_all_png_cutouts() got an unexpected keyword argument 'dpi'"
     ]
    }
   ],
   "source": [
    "all_cutouts = my_source.save_all_png_cutouts(dpi=200)\n",
    "all_cutouts"
   ]
  },
  {
   "cell_type": "markdown",
   "metadata": {},
   "source": [
    "You can force resizing the cutout data by including `force=True` and a new `size` value (which is an Astropy Angle)"
   ]
  },
  {
   "cell_type": "code",
   "execution_count": 18,
   "metadata": {
    "execution": {
     "iopub.execute_input": "2020-08-05T09:50:08.146557Z",
     "iopub.status.busy": "2020-08-05T09:50:08.146396Z",
     "iopub.status.idle": "2020-08-05T09:50:10.276572Z",
     "shell.execute_reply": "2020-08-05T09:50:10.276109Z",
     "shell.execute_reply.started": "2020-08-05T09:50:08.146541Z"
    }
   },
   "outputs": [
    {
     "data": {
      "image/png": "[encoded data removed]",
      "text/plain": [
       "<Figure size 1440x576 with 7 Axes>"
      ]
     },
     "execution_count": 18,
     "metadata": {},
     "output_type": "execute_result"
    }
   ],
   "source": [
    "all_cutouts = my_source.show_all_png_cutouts(columns=5, figsize=(20, 8), force=True, size=Angle(1*u.arcmin))\n",
    "all_cutouts"
   ]
  },
  {
   "cell_type": "code",
   "execution_count": 19,
   "metadata": {
    "execution": {
     "iopub.execute_input": "2020-08-05T09:50:10.277428Z",
     "iopub.status.busy": "2020-08-05T09:50:10.277276Z",
     "iopub.status.idle": "2020-08-05T09:50:13.785620Z",
     "shell.execute_reply": "2020-08-05T09:50:13.785148Z",
     "shell.execute_reply.started": "2020-08-05T09:50:10.277410Z"
    }
   },
   "outputs": [
    {
     "data": {
      "image/png": "[encoded data removed]",
      "text/plain": [
       "<Figure size 576x576 with 2 Axes>"
      ]
     },
     "execution_count": 19,
     "metadata": {},
     "output_type": "execute_result"
    }
   ],
   "source": [
    "wise_3_4_contour_epoch6x = my_source.skyview_contour_plot('6x', 'WISE 3.4')\n",
    "wise_3_4_contour_epoch6x"
   ]
  },
  {
   "cell_type": "code",
   "execution_count": 20,
   "metadata": {
    "execution": {
     "iopub.execute_input": "2020-08-05T09:50:13.786570Z",
     "iopub.status.busy": "2020-08-05T09:50:13.786408Z",
     "iopub.status.idle": "2020-08-05T09:50:13.802555Z",
     "shell.execute_reply": "2020-08-05T09:50:13.802192Z",
     "shell.execute_reply.started": "2020-08-05T09:50:13.786552Z"
    }
   },
   "outputs": [
    {
     "data": {
      "text/html": [
       "<i>Table length=2</i>\n",
       "<table id=\"table139740729828544\" class=\"table-striped table-bordered table-condensed\">\n",
       "<thead><tr><th>MAIN_ID</th><th>RA</th><th>DEC</th><th>RA_PREC</th><th>DEC_PREC</th><th>COO_ERR_MAJA</th><th>COO_ERR_MINA</th><th>COO_ERR_ANGLE</th><th>COO_QUAL</th><th>COO_WAVELENGTH</th><th>COO_BIBCODE</th><th>RA_d</th><th>DEC_d</th><th>RA_d_1</th><th>DEC_d_1</th></tr></thead>\n",
       "<thead><tr><th></th><th>&quot;h:m:s&quot;</th><th>&quot;d:m:s&quot;</th><th></th><th></th><th>mas</th><th>mas</th><th>deg</th><th></th><th></th><th></th><th>deg</th><th>deg</th><th>deg</th><th>deg</th></tr></thead>\n",
       "<thead><tr><th>object</th><th>str13</th><th>str13</th><th>int16</th><th>int16</th><th>float32</th><th>float32</th><th>int16</th><th>str1</th><th>str1</th><th>object</th><th>float64</th><th>float64</th><th>float64</th><th>float64</th></tr></thead>\n",
       "<tr><td>PSR J2129-04</td><td>21 29 45.29</td><td>-04 29 11.9</td><td>6</td><td>6</td><td>--</td><td>--</td><td>0</td><td>D</td><td></td><td>2014ApJ...795...72L</td><td>322.43871000</td><td>-4.48664000</td><td>322.43871000</td><td>-4.48664000</td></tr>\n",
       "<tr><td>CRTS J212945.0-042906</td><td>21 29 45.0466</td><td>-04 29 06.973</td><td>14</td><td>14</td><td>0.080</td><td>0.082</td><td>90</td><td>A</td><td>O</td><td>2018yCat.1345....0G</td><td>322.43769431</td><td>-4.48527042</td><td>322.43769431</td><td>-4.48527042</td></tr>\n",
       "</table>"
      ],
      "text/plain": [
       "<Table length=2>\n",
       "       MAIN_ID              RA           DEC      ...    RA_d_1      DEC_d_1   \n",
       "                         \"h:m:s\"       \"d:m:s\"    ...     deg          deg     \n",
       "        object            str13         str13     ...   float64      float64   \n",
       "--------------------- ------------- ------------- ... ------------ ------------\n",
       "         PSR J2129-04   21 29 45.29   -04 29 11.9 ... 322.43871000  -4.48664000\n",
       "CRTS J212945.0-042906 21 29 45.0466 -04 29 06.973 ... 322.43769431  -4.48527042"
      ]
     },
     "execution_count": 20,
     "metadata": {},
     "output_type": "execute_result"
    }
   ],
   "source": [
    "simbad_results = my_source.simbad_search()\n",
    "simbad_results"
   ]
  },
  {
   "cell_type": "code",
   "execution_count": 21,
   "metadata": {
    "execution": {
     "iopub.execute_input": "2020-08-05T09:50:13.803320Z",
     "iopub.status.busy": "2020-08-05T09:50:13.803188Z",
     "iopub.status.idle": "2020-08-05T09:50:13.908705Z",
     "shell.execute_reply": "2020-08-05T09:50:13.908314Z",
     "shell.execute_reply.started": "2020-08-05T09:50:13.803304Z"
    }
   },
   "outputs": [
    {
     "data": {
      "text/html": [
       "<i>Table length=28</i>\n",
       "<table id=\"table139740507412176\" class=\"table-striped table-bordered table-condensed\">\n",
       "<thead><tr><th>dataproduct_type</th><th>calib_level</th><th>obs_collection</th><th>obs_id</th><th>obs_publisher_did</th><th>access_url</th><th>access_format</th><th>access_estsize</th><th>target_name</th><th>s_ra</th><th>s_dec</th><th>s_fov</th><th>s_region</th><th>s_resolution</th><th>s_xel1</th><th>s_xel2</th><th>t_min</th><th>t_max</th><th>t_exptime</th><th>t_resolution</th><th>t_xel</th><th>em_min</th><th>em_max</th><th>em_res_power</th><th>em_xel</th><th>o_ucd</th><th>pol_states</th><th>pol_xel</th><th>facility_name</th><th>instrument_name</th><th>dataproduct_subtype</th><th>em_ucd</th><th>em_unit</th><th>em_resolution</th><th>s_resolution_min</th><th>s_resolution_max</th><th>s_ucd</th><th>s_unit</th><th>obs_release_date</th><th>quality_level</th><th>thumbnail_id</th><th>filename</th></tr></thead>\n",
       "<thead><tr><th></th><th></th><th></th><th></th><th></th><th></th><th></th><th>kbyte</th><th></th><th>deg</th><th>deg</th><th>deg</th><th></th><th>arcsec</th><th></th><th></th><th>d</th><th>d</th><th>s</th><th>s</th><th></th><th>m</th><th>m</th><th></th><th></th><th></th><th></th><th></th><th></th><th></th><th></th><th></th><th></th><th>m</th><th>arcsec</th><th>arcsec</th><th></th><th></th><th></th><th></th><th></th><th></th></tr></thead>\n",
       "<thead><tr><th>bytes255</th><th>int32</th><th>bytes255</th><th>bytes255</th><th>bytes255</th><th>bytes2000</th><th>bytes255</th><th>int64</th><th>bytes255</th><th>float64</th><th>float64</th><th>float64</th><th>bytes200</th><th>float64</th><th>int64</th><th>int64</th><th>float64</th><th>float64</th><th>float64</th><th>float64</th><th>int64</th><th>float64</th><th>float64</th><th>float64</th><th>int64</th><th>bytes255</th><th>bytes255</th><th>int64</th><th>bytes255</th><th>bytes255</th><th>bytes255</th><th>bytes255</th><th>bytes255</th><th>float64</th><th>float64</th><th>float64</th><th>bytes255</th><th>bytes255</th><th>bytes24</th><th>bytes15</th><th>int64</th><th>bytes1000</th></tr></thead>\n",
       "<tr><td>cube</td><td>2</td><td>ASKAP Pilot Survey for VAST</td><td>10335</td><td>cube-11384</td><td>https://data.csiro.au/casda_vo_proxy/vo/datalink/links?ID=cube-11384</td><td>application/x-votable+xml;content=datalink</td><td>732640</td><td></td><td>319.65244199709</td><td>0.0030764449085466</td><td>90.44801311727238</td><td>POLYGON ICRS 324.43523536599025 -4.760100044734678 314.87693985350995 -4.759294938768922 314.87694174021016 4.758990146798202 324.4352205684499 4.758186275179001</td><td>13.55601412618452</td><td>13700</td><td>13690</td><td>--</td><td>--</td><td>0.0</td><td>--</td><td>1</td><td>0.3377977442375203</td><td>0.3377977446181413</td><td>887491000.0</td><td>1</td><td>phot.flux.density</td><td>/I/</td><td>1</td><td>ASKAP</td><td></td><td>cont.restored.t0</td><td>em.freq</td><td>m</td><td>3.8062103469016506e-10</td><td>11.517425927297532</td><td>13.55601412618452</td><td>pos.eq</td><td>deg</td><td></td><td>NOT_VALIDATED</td><td>--</td><td>image.i.SB10335.cont.VAST_2118+00A.linmos.taylor.0.restored.fits</td></tr>\n",
       "<tr><td>cube</td><td>2</td><td>ASKAP Pilot Survey for VAST</td><td>10335</td><td>cube-11403</td><td>https://data.csiro.au/casda_vo_proxy/vo/datalink/links?ID=cube-11403</td><td>application/x-votable+xml;content=datalink</td><td>735959</td><td></td><td>319.65225903505</td><td>-6.2988994266696</td><td>90.85795717591431</td><td>POLYGON ICRS 324.52427381513013 -11.046061762855985 314.7973404362898 -11.05504661381398 314.87633600109024 -1.5147793466120107 324.4258189496801 -1.5059716386147006</td><td>17.105662264809567</td><td>13730</td><td>13722</td><td>--</td><td>--</td><td>0.0</td><td>--</td><td>1</td><td>0.3377977442375203</td><td>0.3377977446181413</td><td>887491000.0</td><td>1</td><td>phot.flux.density</td><td>/I/</td><td>1</td><td>ASKAP</td><td></td><td>cont.restored.t0</td><td>em.freq</td><td>m</td><td>3.8062103469016506e-10</td><td>10.986972588088955</td><td>17.105662264809567</td><td>pos.eq</td><td>deg</td><td></td><td>NOT_VALIDATED</td><td>--</td><td>image.i.SB10335.cont.VAST_2118-06A.linmos.taylor.0.restored.fits</td></tr>\n",
       "<tr><td>cube</td><td>2</td><td>ASKAP Pilot Survey for VAST</td><td>10335</td><td>cube-11422</td><td>https://data.csiro.au/casda_vo_proxy/vo/datalink/links?ID=cube-11422</td><td>application/x-votable+xml;content=datalink</td><td>732640</td><td></td><td>325.86077116379</td><td>0.0030764449085466</td><td>90.44801311727238</td><td>POLYGON ICRS 330.64356453269016 -4.760100044734678 321.08526902020986 -4.759294938768922 321.08527090691007 4.758990146798202 330.6435497351498 4.758186275179001</td><td>13.678040699693495</td><td>13700</td><td>13690</td><td>--</td><td>--</td><td>0.0</td><td>--</td><td>1</td><td>0.3377977442375203</td><td>0.3377977446181413</td><td>887491000.0</td><td>1</td><td>phot.flux.density</td><td>/I/</td><td>1</td><td>ASKAP</td><td></td><td>cont.restored.t0</td><td>em.freq</td><td>m</td><td>3.8062103469016506e-10</td><td>11.610610661265913</td><td>13.678040699693495</td><td>pos.eq</td><td>deg</td><td></td><td>NOT_VALIDATED</td><td>--</td><td>image.i.SB10335.cont.VAST_2143+00A.linmos.taylor.0.restored.fits</td></tr>\n",
       "<tr><td>cube</td><td>2</td><td>ASKAP Pilot Survey for VAST</td><td>10335</td><td>cube-11441</td><td>https://data.csiro.au/casda_vo_proxy/vo/datalink/links?ID=cube-11441</td><td>application/x-votable+xml;content=datalink</td><td>735959</td><td></td><td>325.86059236845</td><td>-6.2988994266696</td><td>90.85795717591431</td><td>POLYGON ICRS 330.73260714852984 -11.046061762855985 321.00567376969013 -11.05504661381398 321.08466933448994 -1.5147793466120107 330.63415228307986 -1.5059716386147006</td><td>21.324949800827113</td><td>13730</td><td>13722</td><td>--</td><td>--</td><td>0.0</td><td>--</td><td>1</td><td>0.3377977442375203</td><td>0.3377977446181413</td><td>887491000.0</td><td>1</td><td>phot.flux.density</td><td>/I/</td><td>1</td><td>ASKAP</td><td></td><td>cont.restored.t0</td><td>em.freq</td><td>m</td><td>3.8062103469016506e-10</td><td>10.664618102874936</td><td>21.324949800827113</td><td>pos.eq</td><td>deg</td><td></td><td>NOT_VALIDATED</td><td>--</td><td>image.i.SB10335.cont.VAST_2143-06A.linmos.taylor.0.restored.fits</td></tr>\n",
       "<tr><td>cube</td><td>2</td><td>ASKAP Pilot Survey for VAST</td><td>10342</td><td>cube-15445</td><td>https://data.csiro.au/casda_vo_proxy/vo/datalink/links?ID=cube-15445</td><td>application/x-votable+xml;content=datalink</td><td>732640</td><td></td><td>319.65244199709</td><td>0.0030764449085466</td><td>90.44801311727238</td><td>POLYGON ICRS 324.43523536599025 -4.760100044734678 314.87693985350995 -4.759294938768922 314.87694174021016 4.758990146798202 324.4352205684499 4.758186275179001</td><td>14.770719250912512</td><td>13700</td><td>13690</td><td>--</td><td>--</td><td>0.0</td><td>--</td><td>1</td><td>0.3377977442375203</td><td>0.3377977446181413</td><td>887491000.0</td><td>1</td><td>phot.flux.density</td><td>/I/</td><td>1</td><td>ASKAP</td><td></td><td>cont.restored.t0</td><td>em.freq</td><td>m</td><td>3.8062103469016506e-10</td><td>12.039233065841989</td><td>14.770719250912512</td><td>pos.eq</td><td>deg</td><td></td><td>NOT_VALIDATED</td><td>--</td><td>image.i.SB10342.cont.VAST_2118+00A.linmos.taylor.0.restored.fits</td></tr>\n",
       "<tr><td>cube</td><td>2</td><td>ASKAP Pilot Survey for VAST</td><td>10342</td><td>cube-15466</td><td>https://data.csiro.au/casda_vo_proxy/vo/datalink/links?ID=cube-15466</td><td>application/x-votable+xml;content=datalink</td><td>735959</td><td></td><td>319.65225903505</td><td>-6.2988994266696</td><td>90.85795717591431</td><td>POLYGON ICRS 324.52427381513013 -11.046061762855985 314.7973404362898 -11.05504661381398 314.87633600109024 -1.5147793466120107 324.4258189496801 -1.5059716386147006</td><td>12.879410514710976</td><td>13730</td><td>13722</td><td>--</td><td>--</td><td>0.0</td><td>--</td><td>1</td><td>0.3377977442375203</td><td>0.3377977446181413</td><td>887491000.0</td><td>1</td><td>phot.flux.density</td><td>/I/</td><td>1</td><td>ASKAP</td><td></td><td>cont.restored.t0</td><td>em.freq</td><td>m</td><td>3.8062103469016506e-10</td><td>11.375632273107025</td><td>12.879410514710976</td><td>pos.eq</td><td>deg</td><td></td><td>NOT_VALIDATED</td><td>--</td><td>image.i.SB10342.cont.VAST_2118-06A.linmos.taylor.0.restored.fits</td></tr>\n",
       "<tr><td>cube</td><td>2</td><td>ASKAP Pilot Survey for VAST</td><td>10342</td><td>cube-15487</td><td>https://data.csiro.au/casda_vo_proxy/vo/datalink/links?ID=cube-15487</td><td>application/x-votable+xml;content=datalink</td><td>732640</td><td></td><td>325.86077116379</td><td>0.0030764449085466</td><td>90.44801311727238</td><td>POLYGON ICRS 330.64356453269016 -4.760100044734678 321.08526902020986 -4.759294938768922 321.08527090691007 4.758990146798202 330.6435497351498 4.758186275179001</td><td>15.060433445342351</td><td>13700</td><td>13690</td><td>--</td><td>--</td><td>0.0</td><td>--</td><td>1</td><td>0.3377977442375203</td><td>0.3377977446181413</td><td>887491000.0</td><td>1</td><td>phot.flux.density</td><td>/I/</td><td>1</td><td>ASKAP</td><td></td><td>cont.restored.t0</td><td>em.freq</td><td>m</td><td>3.8062103469016506e-10</td><td>11.94399246059136</td><td>15.060433445342351</td><td>pos.eq</td><td>deg</td><td></td><td>NOT_VALIDATED</td><td>--</td><td>image.i.SB10342.cont.VAST_2143+00A.linmos.taylor.0.restored.fits</td></tr>\n",
       "<tr><td>cube</td><td>2</td><td>ASKAP Pilot Survey for VAST</td><td>10342</td><td>cube-15508</td><td>https://data.csiro.au/casda_vo_proxy/vo/datalink/links?ID=cube-15508</td><td>application/x-votable+xml;content=datalink</td><td>735959</td><td></td><td>325.86059236845</td><td>-6.2988994266696</td><td>90.85795717591431</td><td>POLYGON ICRS 330.73260714852984 -11.046061762855985 321.00567376969013 -11.05504661381398 321.08466933448994 -1.5147793466120107 330.63415228307986 -1.5059716386147006</td><td>12.757855404478033</td><td>13730</td><td>13722</td><td>--</td><td>--</td><td>0.0</td><td>--</td><td>1</td><td>0.3377977442375203</td><td>0.3377977446181413</td><td>887491000.0</td><td>1</td><td>phot.flux.density</td><td>/I/</td><td>1</td><td>ASKAP</td><td></td><td>cont.restored.t0</td><td>em.freq</td><td>m</td><td>3.8062103469016506e-10</td><td>11.307562539563088</td><td>12.757855404478033</td><td>pos.eq</td><td>deg</td><td></td><td>NOT_VALIDATED</td><td>--</td><td>image.i.SB10342.cont.VAST_2143-06A.linmos.taylor.0.restored.fits</td></tr>\n",
       "<tr><td>cube</td><td>2</td><td>ASKAP Pilot Survey for VAST</td><td>11168</td><td>cube-10111</td><td>https://data.csiro.au/casda_vo_proxy/vo/datalink/links?ID=cube-10111</td><td>application/x-votable+xml;content=datalink</td><td>732640</td><td></td><td>319.65244199709</td><td>0.0030764449085466</td><td>90.44801311727238</td><td>POLYGON ICRS 324.43523536599025 -4.760100044734678 314.87693985350995 -4.759294938768922 314.87694174021016 4.758990146798202 324.4352205684499 4.758186275179001</td><td>14.327331065254945</td><td>13700</td><td>13690</td><td>--</td><td>--</td><td>0.0</td><td>--</td><td>1</td><td>0.3377977442375203</td><td>0.3377977446181413</td><td>887491000.0</td><td>1</td><td>phot.flux.density</td><td>/I/</td><td>1</td><td>ASKAP</td><td></td><td>cont.restored.t0</td><td>em.freq</td><td>m</td><td>3.8062103469016506e-10</td><td>11.176544654156809</td><td>14.327331065254945</td><td>pos.eq</td><td>deg</td><td></td><td>NOT_VALIDATED</td><td>--</td><td>image.i.SB11168.cont.taylor.0.restored.fits</td></tr>\n",
       "<tr><td>...</td><td>...</td><td>...</td><td>...</td><td>...</td><td>...</td><td>...</td><td>...</td><td>...</td><td>...</td><td>...</td><td>...</td><td>...</td><td>...</td><td>...</td><td>...</td><td>...</td><td>...</td><td>...</td><td>...</td><td>...</td><td>...</td><td>...</td><td>...</td><td>...</td><td>...</td><td>...</td><td>...</td><td>...</td><td>...</td><td>...</td><td>...</td><td>...</td><td>...</td><td>...</td><td>...</td><td>...</td><td>...</td><td>...</td><td>...</td><td>...</td><td>...</td></tr>\n",
       "<tr><td>cube</td><td>2</td><td>ASKAP Pilot Survey for VAST</td><td>11430</td><td>cube-5521</td><td>https://data.csiro.au/casda_vo_proxy/vo/datalink/links?ID=cube-5521</td><td>application/x-votable+xml;content=datalink</td><td>732640</td><td></td><td>325.86077116379</td><td>0.0030764449085466</td><td>90.44801311727238</td><td>POLYGON ICRS 330.64356453269016 -4.760100044734678 321.08526902020986 -4.759294938768922 321.08527090691007 4.758990146798202 330.6435497351498 4.758186275179001</td><td>13.138210363145832</td><td>13700</td><td>13690</td><td>--</td><td>--</td><td>0.0</td><td>--</td><td>1</td><td>0.3377977442375203</td><td>0.3377977446181413</td><td>887491000.0</td><td>1</td><td>phot.flux.density</td><td>/I/</td><td>1</td><td>ASKAP</td><td></td><td>cont.restored.t0</td><td>em.freq</td><td>m</td><td>3.8062103469016506e-10</td><td>12.85206121848708</td><td>13.138210363145832</td><td>pos.eq</td><td>deg</td><td></td><td>NOT_VALIDATED</td><td>--</td><td>image.i.SB11430.cont.taylor.0.restored.fits</td></tr>\n",
       "<tr><td>cube</td><td>2</td><td>ASKAP Pilot Survey for VAST</td><td>11434</td><td>cube-6129</td><td>https://data.csiro.au/casda_vo_proxy/vo/datalink/links?ID=cube-6129</td><td>application/x-votable+xml;content=datalink</td><td>735959</td><td></td><td>325.86059236845</td><td>-6.2988994266696</td><td>90.85795717591431</td><td>POLYGON ICRS 330.73260714852984 -11.046061762855985 321.00567376969013 -11.05504661381398 321.08466933448994 -1.5147793466120107 330.63415228307986 -1.5059716386147006</td><td>13.039963326105193</td><td>13730</td><td>13722</td><td>--</td><td>--</td><td>0.0</td><td>--</td><td>1</td><td>0.3377977442375203</td><td>0.3377977446181413</td><td>887491000.0</td><td>1</td><td>phot.flux.density</td><td>/I/</td><td>1</td><td>ASKAP</td><td></td><td>cont.restored.t0</td><td>em.freq</td><td>m</td><td>3.8062103469016506e-10</td><td>11.61389510193744</td><td>13.039963326105193</td><td>pos.eq</td><td>deg</td><td></td><td>NOT_VALIDATED</td><td>--</td><td>image.i.SB11434.cont.taylor.0.restored.fits</td></tr>\n",
       "<tr><td>cube</td><td>2</td><td>ASKAP Pilot Survey for VAST</td><td>11500</td><td>cube-7478</td><td>https://data.csiro.au/casda_vo_proxy/vo/datalink/links?ID=cube-7478</td><td>application/x-votable+xml;content=datalink</td><td>732640</td><td></td><td>319.65244199709</td><td>0.0030764449085466</td><td>90.44801311727238</td><td>POLYGON ICRS 324.43523536599025 -4.760100044734678 314.87693985350995 -4.759294938768922 314.87694174021016 4.758990146798202 324.4352205684499 4.758186275179001</td><td>14.407823299165631</td><td>13700</td><td>13690</td><td>--</td><td>--</td><td>0.0</td><td>--</td><td>1</td><td>0.3377977442375203</td><td>0.3377977446181413</td><td>887491000.0</td><td>1</td><td>phot.flux.density</td><td>/I/</td><td>1</td><td>ASKAP</td><td></td><td>cont.restored.t0</td><td>em.freq</td><td>m</td><td>3.8062103469016506e-10</td><td>11.35998513872946</td><td>14.407823299165631</td><td>pos.eq</td><td>deg</td><td></td><td>NOT_VALIDATED</td><td>--</td><td>image.i.SB11500.cont.taylor.0.restored.fits</td></tr>\n",
       "<tr><td>cube</td><td>2</td><td>ASKAP Pilot Survey for VAST</td><td>11501</td><td>cube-7136</td><td>https://data.csiro.au/casda_vo_proxy/vo/datalink/links?ID=cube-7136</td><td>application/x-votable+xml;content=datalink</td><td>735959</td><td></td><td>319.65225903505</td><td>-6.2988994266696</td><td>90.85795717591431</td><td>POLYGON ICRS 324.52427381513013 -11.046061762855985 314.7973404362898 -11.05504661381398 314.87633600109024 -1.5147793466120107 324.4258189496801 -1.5059716386147006</td><td>13.386866120331804</td><td>13730</td><td>13722</td><td>--</td><td>--</td><td>0.0</td><td>--</td><td>1</td><td>0.3377977442375203</td><td>0.3377977446181413</td><td>887491000.0</td><td>1</td><td>phot.flux.density</td><td>/I/</td><td>1</td><td>ASKAP</td><td></td><td>cont.restored.t0</td><td>em.freq</td><td>m</td><td>3.8062103469016506e-10</td><td>10.860757332979176</td><td>13.386866120331804</td><td>pos.eq</td><td>deg</td><td></td><td>NOT_VALIDATED</td><td>--</td><td>image.i.SB11501.cont.taylor.0.restored.fits</td></tr>\n",
       "<tr><td>cube</td><td>2</td><td>ASKAP Pilot Survey for VAST</td><td>11502</td><td>cube-7193</td><td>https://data.csiro.au/casda_vo_proxy/vo/datalink/links?ID=cube-7193</td><td>application/x-votable+xml;content=datalink</td><td>732640</td><td></td><td>325.86077116379</td><td>0.0030764449085466</td><td>90.44801311727238</td><td>POLYGON ICRS 330.64356453269016 -4.760100044734678 321.08526902020986 -4.759294938768922 321.08527090691007 4.758990146798202 330.6435497351498 4.758186275179001</td><td>14.301506847892105</td><td>13700</td><td>13690</td><td>--</td><td>--</td><td>0.0</td><td>--</td><td>1</td><td>0.3377977442375203</td><td>0.3377977446181413</td><td>887491000.0</td><td>1</td><td>phot.flux.density</td><td>/I/</td><td>1</td><td>ASKAP</td><td></td><td>cont.restored.t0</td><td>em.freq</td><td>m</td><td>3.8062103469016506e-10</td><td>11.313861040288115</td><td>14.301506847892105</td><td>pos.eq</td><td>deg</td><td></td><td>NOT_VALIDATED</td><td>--</td><td>image.i.SB11502.cont.taylor.0.restored.fits</td></tr>\n",
       "<tr><td>cube</td><td>2</td><td>ASKAP Pilot Survey for VAST</td><td>11506</td><td>cube-7497</td><td>https://data.csiro.au/casda_vo_proxy/vo/datalink/links?ID=cube-7497</td><td>application/x-votable+xml;content=datalink</td><td>735959</td><td></td><td>325.86059236845</td><td>-6.2988994266696</td><td>90.85795717591431</td><td>POLYGON ICRS 330.73260714852984 -11.046061762855985 321.00567376969013 -11.05504661381398 321.08466933448994 -1.5147793466120107 330.63415228307986 -1.5059716386147006</td><td>13.329618760230156</td><td>13730</td><td>13722</td><td>--</td><td>--</td><td>0.0</td><td>--</td><td>1</td><td>0.3377977442375203</td><td>0.3377977446181413</td><td>887491000.0</td><td>1</td><td>phot.flux.density</td><td>/I/</td><td>1</td><td>ASKAP</td><td></td><td>cont.restored.t0</td><td>em.freq</td><td>m</td><td>3.8062103469016506e-10</td><td>10.864299998810989</td><td>13.329618760230156</td><td>pos.eq</td><td>deg</td><td></td><td>NOT_VALIDATED</td><td>--</td><td>image.i.SB11506.cont.taylor.0.restored.fits</td></tr>\n",
       "<tr><td>cube</td><td>2</td><td>ASKAP Pilot Survey for VAST</td><td>9667</td><td>cube-13892</td><td>https://data.csiro.au/casda_vo_proxy/vo/datalink/links?ID=cube-13892</td><td>application/x-votable+xml;content=datalink</td><td>732640</td><td></td><td>319.65244199709</td><td>0.0030764449085466</td><td>90.44801311727238</td><td>POLYGON ICRS 324.43523536599025 -4.760100044734678 314.87693985350995 -4.759294938768922 314.87694174021016 4.758990146798202 324.4352205684499 4.758186275179001</td><td>14.154148259518031</td><td>13700</td><td>13690</td><td>--</td><td>--</td><td>0.0</td><td>--</td><td>1</td><td>0.3377977442375203</td><td>0.3377977446181413</td><td>887491000.0</td><td>1</td><td>phot.flux.density</td><td>/I/</td><td>1</td><td>ASKAP</td><td></td><td>cont.restored.t0</td><td>em.freq</td><td>m</td><td>3.8062103469016506e-10</td><td>13.163388380946648</td><td>14.154148259518031</td><td>pos.eq</td><td>deg</td><td></td><td>NOT_VALIDATED</td><td>--</td><td>image.i.SB9667.cont.VAST_2118+00A.linmos.taylor.0.restored.fits</td></tr>\n",
       "<tr><td>cube</td><td>2</td><td>ASKAP Pilot Survey for VAST</td><td>9667</td><td>cube-13911</td><td>https://data.csiro.au/casda_vo_proxy/vo/datalink/links?ID=cube-13911</td><td>application/x-votable+xml;content=datalink</td><td>732640</td><td></td><td>325.86077116379</td><td>0.0030764449085466</td><td>90.44801311727238</td><td>POLYGON ICRS 330.64356453269016 -4.760100044734678 321.08526902020986 -4.759294938768922 321.08527090691007 4.758990146798202 330.6435497351498 4.758186275179001</td><td>14.156382321975167</td><td>13700</td><td>13690</td><td>--</td><td>--</td><td>0.0</td><td>--</td><td>1</td><td>0.3377977442375203</td><td>0.3377977446181413</td><td>887491000.0</td><td>1</td><td>phot.flux.density</td><td>/I/</td><td>1</td><td>ASKAP</td><td></td><td>cont.restored.t0</td><td>em.freq</td><td>m</td><td>3.8062103469016506e-10</td><td>13.178665358046864</td><td>14.156382321975167</td><td>pos.eq</td><td>deg</td><td></td><td>NOT_VALIDATED</td><td>--</td><td>image.i.SB9667.cont.VAST_2143+00A.linmos.taylor.0.restored.fits</td></tr>\n",
       "<tr><td>cube</td><td>2</td><td>ASKAP Pilot Survey for VAST</td><td>9668</td><td>cube-14465</td><td>https://data.csiro.au/casda_vo_proxy/vo/datalink/links?ID=cube-14465</td><td>application/x-votable+xml;content=datalink</td><td>735959</td><td></td><td>319.65225903505</td><td>-6.2988994266696</td><td>90.85795717591431</td><td>POLYGON ICRS 324.52427381513013 -11.046061762855985 314.7973404362898 -11.05504661381398 314.87633600109024 -1.5147793466120107 324.4258189496801 -1.5059716386147006</td><td>21.237249919088807</td><td>13730</td><td>13722</td><td>--</td><td>--</td><td>0.0</td><td>--</td><td>1</td><td>0.3377977442375203</td><td>0.3377977446181413</td><td>887491000.0</td><td>1</td><td>phot.flux.density</td><td>/I/</td><td>1</td><td>ASKAP</td><td></td><td>cont.restored.t0</td><td>em.freq</td><td>m</td><td>3.8062103469016506e-10</td><td>11.739265867479997</td><td>21.237249919088807</td><td>pos.eq</td><td>deg</td><td></td><td>NOT_VALIDATED</td><td>--</td><td>image.i.SB9668.cont.VAST_2118-06A.linmos.taylor.0.restored.fits</td></tr>\n",
       "<tr><td>cube</td><td>2</td><td>ASKAP Pilot Survey for VAST</td><td>9673</td><td>cube-12467</td><td>https://data.csiro.au/casda_vo_proxy/vo/datalink/links?ID=cube-12467</td><td>application/x-votable+xml;content=datalink</td><td>735959</td><td></td><td>325.86059236845</td><td>-6.2988994266696</td><td>90.85795717591431</td><td>POLYGON ICRS 330.73260714852984 -11.046061762855985 321.00567376969013 -11.05504661381398 321.08466933448994 -1.5147793466120107 330.63415228307986 -1.5059716386147006</td><td>15.778413793225223</td><td>13730</td><td>13722</td><td>--</td><td>--</td><td>0.0</td><td>--</td><td>1</td><td>0.3377977442375203</td><td>0.3377977446181413</td><td>887491000.0</td><td>1</td><td>phot.flux.density</td><td>/I/</td><td>1</td><td>ASKAP</td><td></td><td>cont.restored.t0</td><td>em.freq</td><td>m</td><td>3.8062103469016506e-10</td><td>13.165185617356105</td><td>15.778413793225223</td><td>pos.eq</td><td>deg</td><td></td><td>NOT_VALIDATED</td><td>--</td><td>image.i.SB9673.cont.VAST_2143-06A.linmos.taylor.0.restored.fits</td></tr>\n",
       "</table>"
      ],
      "text/plain": [
       "<Table length=28>\n",
       "dataproduct_type ...\n",
       "                 ...\n",
       "    bytes255     ...\n",
       "---------------- ...\n",
       "            cube ...\n",
       "            cube ...\n",
       "            cube ...\n",
       "            cube ...\n",
       "            cube ...\n",
       "            cube ...\n",
       "            cube ...\n",
       "            cube ...\n",
       "            cube ...\n",
       "             ... ...\n",
       "            cube ...\n",
       "            cube ...\n",
       "            cube ...\n",
       "            cube ...\n",
       "            cube ...\n",
       "            cube ...\n",
       "            cube ...\n",
       "            cube ...\n",
       "            cube ...\n",
       "            cube ..."
      ]
     },
     "execution_count": 21,
     "metadata": {},
     "output_type": "execute_result"
    }
   ],
   "source": [
    "casda_results = my_source.casda_search()\n",
    "casda_results\n",
    "# Uncomment the line below to show that there are no other observations other than VAST\n",
    "# casda_results[casda_results['obs_collection'] != 'ASKAP Pilot Survey for VAST']"
   ]
  }
 ],
 "metadata": {
  "kernelspec": {
   "display_name": "Python 3",
   "language": "python",
   "name": "python3"
  },
  "language_info": {
   "codemirror_mode": {
    "name": "ipython",
    "version": 3
   },
   "file_extension": ".py",
   "mimetype": "text/x-python",
   "name": "python",
   "nbconvert_exporter": "python",
   "pygments_lexer": "ipython3",
   "version": "3.8.3"
  }
 },
 "nbformat": 4,
 "nbformat_minor": 4
}
